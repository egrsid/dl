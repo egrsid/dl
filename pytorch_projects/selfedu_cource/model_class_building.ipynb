{
 "cells": [
  {
   "cell_type": "code",
   "execution_count": 1,
   "metadata": {},
   "outputs": [],
   "source": [
    "import torch\n",
    "import torch.nn as nn\n",
    "import torch.nn.functional as F\n",
    "import torch.optim as optim\n",
    "from random import randint"
   ]
  },
  {
   "cell_type": "markdown",
   "metadata": {},
   "source": [
    "#### Создание класса нейросети"
   ]
  },
  {
   "cell_type": "code",
   "execution_count": 2,
   "metadata": {},
   "outputs": [],
   "source": [
    "class MyClass(nn.Module):\n",
    "    def __init__(self, input_dim, num_hidden, output_dim):\n",
    "        super().__init__()\n",
    "        self.layer1 = nn.Linear(input_dim, num_hidden)\n",
    "        self.layer2 = nn.Linear(num_hidden, output_dim)\n",
    "\n",
    "    def forward(self, x):\n",
    "        \"\"\"Прямой проход по НС\"\"\"\n",
    "        u1 = self.layer1(x)\n",
    "        s1 = F.tanh(u1)\n",
    "\n",
    "        u2 = self.layer2(s1)\n",
    "        s2 = F.tanh(u2)\n",
    "\n",
    "        return s2"
   ]
  },
  {
   "cell_type": "code",
   "execution_count": 3,
   "metadata": {},
   "outputs": [
    {
     "data": {
      "text/plain": [
       "MyClass(\n",
       "  (layer1): Linear(in_features=3, out_features=2, bias=True)\n",
       "  (layer2): Linear(in_features=2, out_features=1, bias=True)\n",
       ")"
      ]
     },
     "execution_count": 3,
     "metadata": {},
     "output_type": "execute_result"
    }
   ],
   "source": [
    "model = MyClass(3, 2, 1)\n",
    "model"
   ]
  },
  {
   "cell_type": "markdown",
   "metadata": {},
   "source": [
    "#### Параметры нейросети"
   ]
  },
  {
   "cell_type": "code",
   "execution_count": 4,
   "metadata": {},
   "outputs": [
    {
     "data": {
      "text/plain": [
       "[Parameter containing:\n",
       " tensor([[ 0.5544,  0.3232,  0.0880],\n",
       "         [ 0.5351, -0.4100,  0.4105]], requires_grad=True),\n",
       " Parameter containing:\n",
       " tensor([-0.2240, -0.1944], requires_grad=True),\n",
       " Parameter containing:\n",
       " tensor([[-0.0293,  0.2095]], requires_grad=True),\n",
       " Parameter containing:\n",
       " tensor([-0.4604], requires_grad=True)]"
      ]
     },
     "execution_count": 4,
     "metadata": {},
     "output_type": "execute_result"
    }
   ],
   "source": [
    "gen_p = model.parameters()\n",
    "list(gen_p)  # потому что это генератор"
   ]
  },
  {
   "cell_type": "markdown",
   "metadata": {},
   "source": [
    "#### Объявление оптимизатора и функции потерь "
   ]
  },
  {
   "cell_type": "code",
   "execution_count": 5,
   "metadata": {},
   "outputs": [],
   "source": [
    "optimizer = optim.RMSprop(params=model.parameters(), lr=0.01)\n",
    "loss_func = torch.nn.MSELoss()"
   ]
  },
  {
   "cell_type": "markdown",
   "metadata": {},
   "source": [
    "#### Обучение"
   ]
  },
  {
   "cell_type": "code",
   "execution_count": 6,
   "metadata": {},
   "outputs": [
    {
     "data": {
      "text/plain": [
       "MyClass(\n",
       "  (layer1): Linear(in_features=3, out_features=2, bias=True)\n",
       "  (layer2): Linear(in_features=2, out_features=1, bias=True)\n",
       ")"
      ]
     },
     "execution_count": 6,
     "metadata": {},
     "output_type": "execute_result"
    }
   ],
   "source": [
    "model.train()  # переводим сеть в режим обучения"
   ]
  },
  {
   "cell_type": "code",
   "execution_count": 7,
   "metadata": {},
   "outputs": [],
   "source": [
    "x_train = torch.FloatTensor([(-1, -1, -1), (-1, -1, 1), (-1, 1, -1), (-1, 1, 1),\n",
    "                            (1, -1, -1), (1, -1, 1), (1, 1, -1), (1, 1, 1)])\n",
    "y_train = torch.FloatTensor([-1, 1, -1, 1, -1, 1, -1, -1])"
   ]
  },
  {
   "cell_type": "code",
   "execution_count": 8,
   "metadata": {},
   "outputs": [
    {
     "name": "stderr",
     "output_type": "stream",
     "text": [
      "c:\\interpreter2\\Lib\\site-packages\\torch\\nn\\modules\\loss.py:538: UserWarning: Using a target size (torch.Size([])) that is different to the input size (torch.Size([1])). This will likely lead to incorrect results due to broadcasting. Please ensure they have the same size.\n",
      "  return F.mse_loss(input, target, reduction=self.reduction)\n"
     ]
    }
   ],
   "source": [
    "for _ in range(1000):\n",
    "    k = randint(0, len(x_train)-1)\n",
    "    y = model(x_train[k])\n",
    "    loss = loss_func(y, y_train[k])\n",
    "    y = y.squeeze()\n",
    "\n",
    "    optimizer.zero_grad()\n",
    "    loss.backward()\n",
    "    optimizer.step()"
   ]
  },
  {
   "cell_type": "markdown",
   "metadata": {},
   "source": [
    "#### Оценка"
   ]
  },
  {
   "cell_type": "code",
   "execution_count": 9,
   "metadata": {},
   "outputs": [
    {
     "data": {
      "text/plain": [
       "MyClass(\n",
       "  (layer1): Linear(in_features=3, out_features=2, bias=True)\n",
       "  (layer2): Linear(in_features=2, out_features=1, bias=True)\n",
       ")"
      ]
     },
     "execution_count": 9,
     "metadata": {},
     "output_type": "execute_result"
    }
   ],
   "source": [
    "model.eval()  # возвращаем в режим эксплуатации"
   ]
  },
  {
   "cell_type": "code",
   "execution_count": 10,
   "metadata": {},
   "outputs": [
    {
     "name": "stdout",
     "output_type": "stream",
     "text": [
      "Выходное значение НС: tensor([-0.9872]) => -1\n",
      "Выходное значение НС: tensor([0.9978]) => 1\n",
      "Выходное значение НС: tensor([-0.9995]) => -1\n",
      "Выходное значение НС: tensor([0.9835]) => 1\n",
      "Выходное значение НС: tensor([-0.9995]) => -1\n",
      "Выходное значение НС: tensor([0.9835]) => 1\n",
      "Выходное значение НС: tensor([-0.9996]) => -1\n",
      "Выходное значение НС: tensor([-0.9810]) => -1\n"
     ]
    }
   ],
   "source": [
    "for x, d in zip(x_train, y_train):\n",
    "    # model.requires_frad_(False)  # так тоже можно отключать градиенты\n",
    "    with torch.no_grad():  # отключает поддержку локальных градиентов\n",
    "        y = model(x)\n",
    "        print(f'Выходное значение НС: {y.data} => {1 if y.data >= 0 else -1}')"
   ]
  },
  {
   "cell_type": "code",
   "execution_count": null,
   "metadata": {},
   "outputs": [],
   "source": []
  }
 ],
 "metadata": {
  "kernelspec": {
   "display_name": "interpreter2",
   "language": "python",
   "name": "python3"
  },
  "language_info": {
   "codemirror_mode": {
    "name": "ipython",
    "version": 3
   },
   "file_extension": ".py",
   "mimetype": "text/x-python",
   "name": "python",
   "nbconvert_exporter": "python",
   "pygments_lexer": "ipython3",
   "version": "3.11.9"
  }
 },
 "nbformat": 4,
 "nbformat_minor": 2
}
